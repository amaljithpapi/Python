{
  "nbformat": 4,
  "nbformat_minor": 0,
  "metadata": {
    "colab": {
      "provenance": [],
      "authorship_tag": "ABX9TyOZaKfjA3Pk+/d8tWPI2cze",
      "include_colab_link": true
    },
    "kernelspec": {
      "name": "python3",
      "display_name": "Python 3"
    },
    "language_info": {
      "name": "python"
    }
  },
  "cells": [
    {
      "cell_type": "markdown",
      "metadata": {
        "id": "view-in-github",
        "colab_type": "text"
      },
      "source": [
        "<a href=\"https://colab.research.google.com/github/amaljithpapi/Python/blob/main/Python_practice_problem.ipynb\" target=\"_parent\"><img src=\"https://colab.research.google.com/assets/colab-badge.svg\" alt=\"Open In Colab\"/></a>"
      ]
    },
    {
      "cell_type": "code",
      "execution_count": null,
      "metadata": {
        "colab": {
          "base_uri": "https://localhost:8080/"
        },
        "id": "6YQ2sxksFCNu",
        "outputId": "68053261-554e-4f8c-f161-e088a6085102"
      },
      "outputs": [
        {
          "output_type": "stream",
          "name": "stdout",
          "text": [
            "Hello\n"
          ]
        }
      ],
      "source": [
        "string = \"Hello, World!\"\n",
        "substring = string[:5]\n",
        "print(substring)"
      ]
    },
    {
      "cell_type": "code",
      "source": [
        "string = \"Python is fun\"\n",
        "substring = string[7:9]\n",
        "print(substring)"
      ],
      "metadata": {
        "colab": {
          "base_uri": "https://localhost:8080/"
        },
        "id": "_LZBjGb2F2Ep",
        "outputId": "1980830a-3010-4a2d-c70a-1f269144a46b"
      },
      "execution_count": null,
      "outputs": [
        {
          "output_type": "stream",
          "name": "stdout",
          "text": [
            "is\n"
          ]
        }
      ]
    },
    {
      "cell_type": "code",
      "source": [
        "string = \"Programming\"\n",
        "substring = string[3:7]\n",
        "print(substring)"
      ],
      "metadata": {
        "colab": {
          "base_uri": "https://localhost:8080/"
        },
        "id": "ox1jpu7hGfN0",
        "outputId": "85dd0399-ff94-46a1-fced-79e03792662a"
      },
      "execution_count": null,
      "outputs": [
        {
          "output_type": "stream",
          "name": "stdout",
          "text": [
            "gram\n"
          ]
        }
      ]
    },
    {
      "cell_type": "code",
      "source": [
        "string = \"abcdefghij\"\n",
        "substring = string[::2]\n",
        "print(substring)"
      ],
      "metadata": {
        "colab": {
          "base_uri": "https://localhost:8080/"
        },
        "id": "JPtN5BYuG9cp",
        "outputId": "f6d3a56a-a885-4573-c3a4-f2378ef42007"
      },
      "execution_count": null,
      "outputs": [
        {
          "output_type": "stream",
          "name": "stdout",
          "text": [
            "acegi\n"
          ]
        }
      ]
    },
    {
      "cell_type": "code",
      "source": [
        "string = \"abcdefg\"\n",
        "substring = string[-3:]\n",
        "print(substring)"
      ],
      "metadata": {
        "colab": {
          "base_uri": "https://localhost:8080/"
        },
        "id": "plILmVrYHV8b",
        "outputId": "8f8c2d6a-7a7e-44e1-9fc8-2719fce1d573"
      },
      "execution_count": null,
      "outputs": [
        {
          "output_type": "stream",
          "name": "stdout",
          "text": [
            "efg\n"
          ]
        }
      ]
    },
    {
      "cell_type": "code",
      "source": [
        "string = \"Data science\"\n",
        "substring = string[-3:]\n",
        "print(substring)"
      ],
      "metadata": {
        "colab": {
          "base_uri": "https://localhost:8080/"
        },
        "id": "k01eMVIaHk-u",
        "outputId": "7115945d-30f0-4597-f44c-64dd3039af8c"
      },
      "execution_count": null,
      "outputs": [
        {
          "output_type": "stream",
          "name": "stdout",
          "text": [
            "nce\n"
          ]
        }
      ]
    },
    {
      "cell_type": "code",
      "source": [
        "string = \"abcdefghij\"\n",
        "print(string[1::2])"
      ],
      "metadata": {
        "colab": {
          "base_uri": "https://localhost:8080/"
        },
        "id": "i1XqpG7ZICf-",
        "outputId": "63cab856-a5f8-4e51-9071-6b1c08ed8efa"
      },
      "execution_count": null,
      "outputs": [
        {
          "output_type": "stream",
          "name": "stdout",
          "text": [
            "bdfhj\n"
          ]
        }
      ]
    },
    {
      "cell_type": "code",
      "source": [
        "digits = \"123456789\"\n",
        "print(digits[::2])"
      ],
      "metadata": {
        "colab": {
          "base_uri": "https://localhost:8080/"
        },
        "id": "-x6dGMyHInY3",
        "outputId": "7765ab8d-0cfa-40e1-98cb-d513fa06671e"
      },
      "execution_count": null,
      "outputs": [
        {
          "output_type": "stream",
          "name": "stdout",
          "text": [
            "13579\n"
          ]
        }
      ]
    },
    {
      "cell_type": "code",
      "source": [
        "string = \"Hello\"\n",
        "print(string[::-1])"
      ],
      "metadata": {
        "colab": {
          "base_uri": "https://localhost:8080/"
        },
        "id": "StFU9DmLLDAR",
        "outputId": "8bae3220-37aa-4391-96f6-7a683e26ac3e"
      },
      "execution_count": null,
      "outputs": [
        {
          "output_type": "stream",
          "name": "stdout",
          "text": [
            "olleH\n"
          ]
        }
      ]
    },
    {
      "cell_type": "code",
      "source": [
        "string = \"abcdefghijk\"\n",
        "print(string[::2])"
      ],
      "metadata": {
        "colab": {
          "base_uri": "https://localhost:8080/"
        },
        "id": "9_uvdw1TLXFG",
        "outputId": "c398b745-f38c-434c-dd3e-387b4841863d"
      },
      "execution_count": null,
      "outputs": [
        {
          "output_type": "stream",
          "name": "stdout",
          "text": [
            "acegik\n"
          ]
        }
      ]
    },
    {
      "cell_type": "code",
      "source": [
        "numbers = [12, 22, 13, 4, 15]\n",
        "total_sum = sum(numbers)\n",
        "print(total_sum)"
      ],
      "metadata": {
        "colab": {
          "base_uri": "https://localhost:8080/"
        },
        "id": "zDC86dY7Mr09",
        "outputId": "70fa9482-1c3f-4707-fb64-9a792c346d62"
      },
      "execution_count": null,
      "outputs": [
        {
          "output_type": "stream",
          "name": "stdout",
          "text": [
            "66\n"
          ]
        }
      ]
    },
    {
      "cell_type": "code",
      "source": [
        "sentence = input(\"Enter a sentence: \")\n",
        "length = len(sentence)\n",
        "print(\"Length of the sentence is:\", length)\n",
        "half = length // 2\n",
        "print(\"First half of the sentence:\", sentence[:half])"
      ],
      "metadata": {
        "colab": {
          "base_uri": "https://localhost:8080/"
        },
        "id": "u7MSg2jxN1Ud",
        "outputId": "8468ab16-9227-4a6c-db78-a352d9333743"
      },
      "execution_count": null,
      "outputs": [
        {
          "output_type": "stream",
          "name": "stdout",
          "text": [
            "Enter a sentence: How are you\n",
            "Length of the sentence is: 11\n",
            "First half of the sentence: How a\n"
          ]
        }
      ]
    },
    {
      "cell_type": "code",
      "source": [
        "numbers = (78, 45, 32, 19, 82, 77, 40, 39)\n",
        "list_of_numbers = list(numbers)\n",
        "list_of_numbers[2] = 100\n",
        "modified_numbers = tuple(list_of_numbers)\n",
        "print(modified_numbers)"
      ],
      "metadata": {
        "colab": {
          "base_uri": "https://localhost:8080/"
        },
        "id": "e_NPXAYNOrwn",
        "outputId": "fbc87b1d-c7fc-4bcb-99f8-edd86f8d0308"
      },
      "execution_count": null,
      "outputs": [
        {
          "output_type": "stream",
          "name": "stdout",
          "text": [
            "(78, 45, 100, 19, 82, 77, 40, 39)\n"
          ]
        }
      ]
    },
    {
      "cell_type": "code",
      "source": [
        "listA = [19, 32, 10, 55, 31, 32, 94, 29, 10, 65, 77, 40, 40]\n",
        "listA.remove(32)\n",
        "listA = [x for x in listA if x != 40]\n",
        "del listA[5]\n",
        "listA[4] = 300\n",
        "listA.insert(2, 200)\n",
        "print(\"Final list:\", listA)\n",
        "print(\"Length of the list:\", len(listA))\n",
        "print(\"Maximum value:\", max(listA))\n",
        "print(\"Sum of all elements:\", sum(listA))"
      ],
      "metadata": {
        "id": "Wi4qcdurQ1b7",
        "colab": {
          "base_uri": "https://localhost:8080/"
        },
        "outputId": "66d49302-e987-4c58-a464-6b89195a0b01"
      },
      "execution_count": null,
      "outputs": [
        {
          "output_type": "stream",
          "name": "stdout",
          "text": [
            "Final list: [19, 10, 200, 55, 31, 300, 29, 10, 65, 77]\n",
            "Length of the list: 10\n",
            "Maximum value: 300\n",
            "Sum of all elements: 796\n"
          ]
        }
      ]
    },
    {
      "cell_type": "code",
      "source": [
        "string = \"The day has been long\"\n",
        "string = string[:4] + string[5:]\n",
        "print((string + \" \") * 4)\n",
        "print((string + \"\\n\") * 3)\n",
        "string = string[:7] + 'A' + string[8:]\n",
        "print(string[4:16])\n",
        "print(\"Final string:\", string)\n",
        "print(\"Length of the final string:\", len(string))\n"
      ],
      "metadata": {
        "id": "5gvuAkRNL3qi",
        "colab": {
          "base_uri": "https://localhost:8080/"
        },
        "outputId": "106b858d-2e05-423a-e2e5-91306ddce3b8"
      },
      "execution_count": null,
      "outputs": [
        {
          "output_type": "stream",
          "name": "stdout",
          "text": [
            "The ay has been long The ay has been long The ay has been long The ay has been long \n",
            "The ay has been long\n",
            "The ay has been long\n",
            "The ay has been long\n",
            "\n",
            "ay Aas been \n",
            "Final string: The ay Aas been long\n",
            "Length of the final string: 20\n"
          ]
        }
      ]
    },
    {
      "cell_type": "code",
      "source": [],
      "metadata": {
        "id": "Z-qDK1jL5D5j"
      },
      "execution_count": null,
      "outputs": []
    }
  ]
}